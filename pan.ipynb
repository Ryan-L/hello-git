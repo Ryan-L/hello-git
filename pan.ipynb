{
 "metadata": {
  "language_info": {
   "codemirror_mode": {
    "name": "ipython",
    "version": 3
   },
   "file_extension": ".py",
   "mimetype": "text/x-python",
   "name": "python",
   "nbconvert_exporter": "python",
   "pygments_lexer": "ipython3",
   "version": "3.7.4"
  },
  "orig_nbformat": 2,
  "kernelspec": {
   "name": "python3",
   "display_name": "Python 3.7.4 64-bit ('try_venv': venv)",
   "metadata": {
    "interpreter": {
     "hash": "6fd1c428f95ef871bdaf0adaa91ef2de3d31fb672ddb8b9a0f6ac73776aba2bd"
    }
   }
  }
 },
 "nbformat": 4,
 "nbformat_minor": 2,
 "cells": [
  {
   "cell_type": "code",
   "execution_count": null,
   "metadata": {},
   "outputs": [],
   "source": [
    "\"\"\" \n",
    "Date:Jun/17/2021\n",
    "Author: RJ\n",
    "Re: pandas \n",
    "\n",
    "\"\"\"\n",
    "import os\n",
    "import pandas as pd\n",
    "import matplotlib.pyplot as plt\n",
    "import seaborn as sns\n",
    "os.chdir('d:\\\\py_ph')\n",
    "wd = os.getcwd()\n",
    "wd"
   ]
  },
  {
   "cell_type": "code",
   "execution_count": null,
   "metadata": {},
   "outputs": [],
   "source": [
    "#f_path = ('/Volumes/GoogleDrive/我的雲端硬碟/001_phd/phd/20210224/wc_so/')\n",
    "f_path = ('G:\\\\我的雲端硬碟\\\\001_phd\\\\phd\\\\20210410\\\\')\n",
    "df = pd.read_csv(f_path+'af_f0415.csv')"
   ]
  },
  {
   "cell_type": "code",
   "execution_count": null,
   "metadata": {},
   "outputs": [],
   "source": [
    "df.head(5)"
   ]
  },
  {
   "cell_type": "code",
   "execution_count": 6,
   "metadata": {},
   "outputs": [
    {
     "output_type": "stream",
     "name": "stdout",
     "text": [
      "Index(['AU', 'AF', 'DE', 'ID', 'CR', 'AB', 'AR', 'BE', 'BN', 'BP', 'C1', 'CA',\n       'CL', 'CT', 'CY', 'DA', 'DI', 'DT', 'EA', 'EF', 'EI', 'EM', 'EP', 'ER',\n       'FU', 'FX', 'GA', 'GP', 'HO', 'IS', 'J9', 'JI', 'LA', 'NR', 'OA', 'OI',\n       'PA', 'PD', 'PG', 'PI', 'PM', 'PN', 'PT', 'PU', 'PY', 'RI', 'RP', 'SC',\n       'SE', 'SI', 'SN', 'SO', 'SP', 'SU', 'TC', 'TI', 'U1', 'U2', 'UT', 'VL',\n       'WC', 'Z9', 'DB', 'AU_UN', 'AU1_UN', 'AU_UN_NR', 'SR_FULL', 'SR'],\n      dtype='object')\n"
     ]
    }
   ],
   "source": [
    "print(df.columns)"
   ]
  },
  {
   "cell_type": "code",
   "execution_count": null,
   "metadata": {},
   "outputs": [],
   "source": [
    "usecols= ['PY','TC','TI','J9']\n",
    "df2 = pd.read_csv(f_path+'af_f0415.csv',usecols=usecols)"
   ]
  }
 ]
}